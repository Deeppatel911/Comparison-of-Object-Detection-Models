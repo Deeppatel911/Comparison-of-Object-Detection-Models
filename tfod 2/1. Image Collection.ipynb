{
 "cells": [
  {
   "cell_type": "markdown",
   "metadata": {},
   "source": [
    "# 1. Import Dependencies"
   ]
  },
  {
   "cell_type": "code",
   "execution_count": 2,
   "metadata": {},
   "outputs": [
    {
     "name": "stdout",
     "output_type": "stream",
     "text": [
      "Requirement already satisfied: opencv-python in c:\\users\\deepn\\anaconda3\\lib\\site-packages (4.5.2.54)\n",
      "Requirement already satisfied: numpy>=1.17.3 in c:\\users\\deepn\\anaconda3\\lib\\site-packages (from opencv-python) (1.20.1)\n"
     ]
    }
   ],
   "source": [
    "!pip install opencv-python"
   ]
  },
  {
   "cell_type": "code",
   "execution_count": 2,
   "metadata": {},
   "outputs": [],
   "source": [
    "# Import opencv\n",
    "import cv2 \n",
    "\n",
    "# Import uuid name our images uniquely\n",
    "import uuid\n",
    "\n",
    "# Import Operating System using for file  paths \n",
    "import os\n",
    "\n",
    "# Import time \n",
    "import time"
   ]
  },
  {
   "cell_type": "markdown",
   "metadata": {},
   "source": [
    "# 2. Define Images to Collect"
   ]
  },
  {
   "cell_type": "code",
   "execution_count": 2,
   "metadata": {},
   "outputs": [],
   "source": [
    "labels = ['thumbsup', 'thumbsdown', 'thankyou', 'livelong']\n",
    "number_imgs = 5"
   ]
  },
  {
   "cell_type": "code",
   "execution_count": 3,
   "metadata": {},
   "outputs": [
    {
     "data": {
      "text/plain": [
       "['thumbsup', 'thumbsdown', 'thankyou', 'livelong']"
      ]
     },
     "execution_count": 3,
     "metadata": {},
     "output_type": "execute_result"
    }
   ],
   "source": [
    "labels"
   ]
  },
  {
   "cell_type": "markdown",
   "metadata": {},
   "source": [
    "# 3. Setup Folders "
   ]
  },
  {
   "cell_type": "code",
   "execution_count": 4,
   "metadata": {},
   "outputs": [],
   "source": [
    "IMAGES_PATH = os.path.join('Tensorflow', 'workspace', 'images', 'collectedimages')"
   ]
  },
  {
   "cell_type": "code",
   "execution_count": 5,
   "metadata": {},
   "outputs": [
    {
     "name": "stdout",
     "output_type": "stream",
     "text": [
      "Tensorflow\\workspace\\images\\collectedimages\n"
     ]
    }
   ],
   "source": [
    "print(IMAGES_PATH)"
   ]
  },
  {
   "cell_type": "code",
   "execution_count": 8,
   "metadata": {},
   "outputs": [
    {
     "data": {
      "text/plain": [
       "'nt'"
      ]
     },
     "execution_count": 8,
     "metadata": {},
     "output_type": "execute_result"
    }
   ],
   "source": [
    "os.name"
   ]
  },
  {
   "cell_type": "code",
   "execution_count": 6,
   "metadata": {},
   "outputs": [],
   "source": [
    "if not os.path.exists(IMAGES_PATH):   #checks what type of operating syestem its using\n",
    "    if os.name == 'posix':     #linux\n",
    "        !mkdir -p {IMAGES_PATH}\n",
    "    if os.name == 'nt':          #windows\n",
    "         !mkdir {IMAGES_PATH}\n",
    "for label in labels:\n",
    "    path = os.path.join(IMAGES_PATH, label)\n",
    "    if not os.path.exists(path):\n",
    "        !mkdir {path}"
   ]
  },
  {
   "cell_type": "markdown",
   "metadata": {},
   "source": [
    "# 4. Capture Images"
   ]
  },
  {
   "cell_type": "code",
   "execution_count": 7,
   "metadata": {},
   "outputs": [
    {
     "name": "stdout",
     "output_type": "stream",
     "text": [
      "Collecting images for thumbsup\n",
      "Collecting image 0\n",
      "Collecting image 1\n",
      "Collecting image 2\n",
      "Collecting image 3\n",
      "Collecting image 4\n",
      "Collecting images for thumbsdown\n",
      "Collecting image 0\n",
      "Collecting image 1\n",
      "Collecting image 2\n",
      "Collecting image 3\n",
      "Collecting image 4\n",
      "Collecting images for thankyou\n",
      "Collecting image 0\n",
      "Collecting image 1\n",
      "Collecting image 2\n",
      "Collecting image 3\n",
      "Collecting image 4\n",
      "Collecting images for livelong\n",
      "Collecting image 0\n",
      "Collecting image 1\n",
      "Collecting image 2\n",
      "Collecting image 3\n",
      "Collecting image 4\n"
     ]
    }
   ],
   "source": [
    "for label in labels:        #this gonna loop through all the labels\n",
    "    cap = cv2.VideoCapture(0)     #connect the webcam\n",
    "    print('Collecting images for {}'.format(label))    #print out which label we are collecting\n",
    "    time.sleep(5)    #time break for 5 secs\n",
    "    for imgnum in range(number_imgs):    #this will loop through the number of images \n",
    "        print('Collecting image {}'.format(imgnum))   # collecting for specific label\n",
    "        ret, frame = cap.read()   #specific frame\n",
    "        imgname = os.path.join(IMAGES_PATH,label,label+'.'+'{}.jpg'.format(str(uuid.uuid1())))   #create a new image and plave inside a new path\n",
    "        #also this will give us the extension with unique number \n",
    "        cv2.imwrite(imgname, frame)\n",
    "        cv2.imshow('frame', frame)\n",
    "        time.sleep(2)\n",
    "\n",
    "        if cv2.waitKey(1) & 0xFF == ord('q'):\n",
    "            break\n",
    "cap.release()\n",
    "cv2.destroyAllWindows()"
   ]
  },
  {
   "cell_type": "markdown",
   "metadata": {},
   "source": [
    "# 5. Image Labelling"
   ]
  },
  {
   "cell_type": "code",
   "execution_count": 9,
   "metadata": {},
   "outputs": [
    {
     "name": "stdout",
     "output_type": "stream",
     "text": [
      "Collecting pyqt5\n",
      "  Downloading PyQt5-5.15.4-cp36.cp37.cp38.cp39-none-win_amd64.whl (6.8 MB)\n",
      "Collecting lxml\n",
      "  Using cached lxml-4.6.3-cp39-cp39-win_amd64.whl (3.5 MB)\n",
      "Collecting PyQt5-sip<13,>=12.8\n",
      "  Downloading PyQt5_sip-12.9.0-cp39-cp39-win_amd64.whl (63 kB)\n",
      "Collecting PyQt5-Qt5>=5.15\n",
      "  Downloading PyQt5_Qt5-5.15.2-py3-none-win_amd64.whl (50.1 MB)\n",
      "Installing collected packages: PyQt5-sip, PyQt5-Qt5, pyqt5, lxml\n",
      "Successfully installed PyQt5-Qt5-5.15.2 PyQt5-sip-12.9.0 lxml-4.6.3 pyqt5-5.15.4\n",
      "Collecting pyqt5\n",
      "  Using cached PyQt5-5.15.4-cp36.cp37.cp38.cp39-none-win_amd64.whl (6.8 MB)\n",
      "Collecting lxml\n",
      "  Using cached lxml-4.6.3-cp39-cp39-win_amd64.whl (3.5 MB)\n",
      "Requirement already satisfied: PyQt5-Qt5>=5.15 in d:\\tensorflow object detection\\tfodcourse\\tfod\\lib\\site-packages (from pyqt5) (5.15.2)\n",
      "Requirement already satisfied: PyQt5-sip<13,>=12.8 in d:\\tensorflow object detection\\tfodcourse\\tfod\\lib\\site-packages (from pyqt5) (12.9.0)\n",
      "Installing collected packages: pyqt5, lxml\n",
      "Successfully installed lxml-4.6.3 pyqt5-5.15.4\n"
     ]
    }
   ],
   "source": [
    "!pip install --upgrade pyqt5 lxml"
   ]
  },
  {
   "cell_type": "code",
   "execution_count": 10,
   "metadata": {},
   "outputs": [],
   "source": [
    "LABELIMG_PATH = os.path.join('Tensorflow', 'labelimg')"
   ]
  },
  {
   "cell_type": "code",
   "execution_count": 11,
   "metadata": {},
   "outputs": [
    {
     "name": "stderr",
     "output_type": "stream",
     "text": [
      "Cloning into 'Tensorflow\\labelimg'...\n"
     ]
    }
   ],
   "source": [
    "if not os.path.exists(LABELIMG_PATH):\n",
    "    !mkdir {LABELIMG_PATH}\n",
    "    !git clone https://github.com/tzutalin/labelImg {LABELIMG_PATH}"
   ]
  },
  {
   "cell_type": "code",
   "execution_count": 12,
   "metadata": {},
   "outputs": [],
   "source": [
    "if os.name == 'posix':\n",
    "    !cd {LABELIMG_PATH} && make qt5py3\n",
    "if os.name =='nt':\n",
    "    !cd {LABELIMG_PATH} && pyrcc5 -o libs/resources.py resources.qrc"
   ]
  },
  {
   "cell_type": "code",
   "execution_count": 13,
   "metadata": {},
   "outputs": [
    {
     "name": "stdout",
     "output_type": "stream",
     "text": [
      "Image:D:\\tensorflow object detection\\TFODCourse\\Tensorflow\\workspace\\images\\collectedimages\\livelong\\livelong.a2a55ca6-d186-11eb-a5ba-b4b686e8ee2a.jpg -> Annotation:D:/tensorflow object detection/TFODCourse/Tensorflow/workspace/images/collectedimages/livelong/livelong.a2a55ca6-d186-11eb-a5ba-b4b686e8ee2a.xml\n",
      "Image:D:\\tensorflow object detection\\TFODCourse\\Tensorflow\\workspace\\images\\collectedimages\\livelong\\livelong.a3dd994b-d186-11eb-9141-b4b686e8ee2a.jpg -> Annotation:D:/tensorflow object detection/TFODCourse/Tensorflow/workspace/images/collectedimages/livelong/livelong.a3dd994b-d186-11eb-9141-b4b686e8ee2a.xml\n",
      "Image:D:\\tensorflow object detection\\TFODCourse\\Tensorflow\\workspace\\images\\collectedimages\\livelong\\livelong.a64f700e-d186-11eb-bdae-b4b686e8ee2a.jpg -> Annotation:D:/tensorflow object detection/TFODCourse/Tensorflow/workspace/images/collectedimages/livelong/livelong.a64f700e-d186-11eb-bdae-b4b686e8ee2a.xml\n",
      "Image:D:\\tensorflow object detection\\TFODCourse\\Tensorflow\\workspace\\images\\collectedimages\\livelong\\livelong.a51778fb-d186-11eb-8324-b4b686e8ee2a.jpg -> Annotation:D:/tensorflow object detection/TFODCourse/Tensorflow/workspace/images/collectedimages/livelong/livelong.a51778fb-d186-11eb-8324-b4b686e8ee2a.xml\n",
      "Image:D:\\tensorflow object detection\\TFODCourse\\Tensorflow\\workspace\\images\\collectedimages\\livelong\\livelong.a7862822-d186-11eb-a8c4-b4b686e8ee2a.jpg -> Annotation:D:/tensorflow object detection/TFODCourse/Tensorflow/workspace/images/collectedimages/livelong/livelong.a7862822-d186-11eb-a8c4-b4b686e8ee2a.xml\n",
      "Image:D:\\tensorflow object detection\\TFODCourse\\Tensorflow\\workspace\\images\\collectedimages\\thankyou\\thankyou.9a54c9c1-d186-11eb-9407-b4b686e8ee2a.jpg -> Annotation:D:/tensorflow object detection/TFODCourse/Tensorflow/workspace/images/collectedimages/thankyou/thankyou.9a54c9c1-d186-11eb-9407-b4b686e8ee2a.xml\n",
      "Cancel creation.\n",
      "Image:D:\\tensorflow object detection\\TFODCourse\\Tensorflow\\workspace\\images\\collectedimages\\thankyou\\thankyou.9b8db49c-d186-11eb-b0c2-b4b686e8ee2a.jpg -> Annotation:D:/tensorflow object detection/TFODCourse/Tensorflow/workspace/images/collectedimages/thankyou/thankyou.9b8db49c-d186-11eb-b0c2-b4b686e8ee2a.xml\n",
      "Image:D:\\tensorflow object detection\\TFODCourse\\Tensorflow\\workspace\\images\\collectedimages\\thankyou\\thankyou.9cc3f287-d186-11eb-93ed-b4b686e8ee2a.jpg -> Annotation:D:/tensorflow object detection/TFODCourse/Tensorflow/workspace/images/collectedimages/thankyou/thankyou.9cc3f287-d186-11eb-93ed-b4b686e8ee2a.xml\n",
      "Image:D:\\tensorflow object detection\\TFODCourse\\Tensorflow\\workspace\\images\\collectedimages\\thankyou\\thankyou.97e4fe2d-d186-11eb-8a64-b4b686e8ee2a.jpg -> Annotation:D:/tensorflow object detection/TFODCourse/Tensorflow/workspace/images/collectedimages/thankyou/thankyou.97e4fe2d-d186-11eb-8a64-b4b686e8ee2a.xml\n",
      "Image:D:\\tensorflow object detection\\TFODCourse\\Tensorflow\\workspace\\images\\collectedimages\\thankyou\\thankyou.991ad4fc-d186-11eb-94d3-b4b686e8ee2a.jpg -> Annotation:D:/tensorflow object detection/TFODCourse/Tensorflow/workspace/images/collectedimages/thankyou/thankyou.991ad4fc-d186-11eb-94d3-b4b686e8ee2a.xml\n",
      "Image:D:\\tensorflow object detection\\TFODCourse\\Tensorflow\\workspace\\images\\collectedimages\\thumbsdown\\thumbsdown.8d35bf43-d186-11eb-b6ac-b4b686e8ee2a.jpg -> Annotation:D:/tensorflow object detection/TFODCourse/Tensorflow/workspace/images/collectedimages/thumbsdown/thumbsdown.8d35bf43-d186-11eb-b6ac-b4b686e8ee2a.xml\n",
      "Image:D:\\tensorflow object detection\\TFODCourse\\Tensorflow\\workspace\\images\\collectedimages\\thumbsdown\\thumbsdown.8e69dc01-d186-11eb-befc-b4b686e8ee2a.jpg -> Annotation:D:/tensorflow object detection/TFODCourse/Tensorflow/workspace/images/collectedimages/thumbsdown/thumbsdown.8e69dc01-d186-11eb-befc-b4b686e8ee2a.xml\n",
      "Image:D:\\tensorflow object detection\\TFODCourse\\Tensorflow\\workspace\\images\\collectedimages\\thumbsdown\\thumbsdown.8f9f3cba-d186-11eb-9a70-b4b686e8ee2a.jpg -> Annotation:D:/tensorflow object detection/TFODCourse/Tensorflow/workspace/images/collectedimages/thumbsdown/thumbsdown.8f9f3cba-d186-11eb-9a70-b4b686e8ee2a.xml\n",
      "Image:D:\\tensorflow object detection\\TFODCourse\\Tensorflow\\workspace\\images\\collectedimages\\thumbsdown\\thumbsdown.90d33bdd-d186-11eb-959f-b4b686e8ee2a.jpg -> Annotation:D:/tensorflow object detection/TFODCourse/Tensorflow/workspace/images/collectedimages/thumbsdown/thumbsdown.90d33bdd-d186-11eb-959f-b4b686e8ee2a.xml\n",
      "Image:D:\\tensorflow object detection\\TFODCourse\\Tensorflow\\workspace\\images\\collectedimages\\thumbsdown\\thumbsdown.920d065f-d186-11eb-a19f-b4b686e8ee2a.jpg -> Annotation:D:/tensorflow object detection/TFODCourse/Tensorflow/workspace/images/collectedimages/thumbsdown/thumbsdown.920d065f-d186-11eb-a19f-b4b686e8ee2a.xml\n",
      "Image:D:\\tensorflow object detection\\TFODCourse\\Tensorflow\\workspace\\images\\collectedimages\\thumbsup\\thumbsup.83b2e0f0-d186-11eb-b66e-b4b686e8ee2a.jpg -> Annotation:D:/tensorflow object detection/TFODCourse/Tensorflow/workspace/images/collectedimages/thumbsup/thumbsup.83b2e0f0-d186-11eb-b66e-b4b686e8ee2a.xml\n",
      "Image:D:\\tensorflow object detection\\TFODCourse\\Tensorflow\\workspace\\images\\collectedimages\\thumbsup\\thumbsup.84e94826-d186-11eb-8b0c-b4b686e8ee2a.jpg -> Annotation:D:/tensorflow object detection/TFODCourse/Tensorflow/workspace/images/collectedimages/thumbsup/thumbsup.84e94826-d186-11eb-8b0c-b4b686e8ee2a.xml\n",
      "Image:D:\\tensorflow object detection\\TFODCourse\\Tensorflow\\workspace\\images\\collectedimages\\thumbsup\\thumbsup.826cb08e-d186-11eb-984e-b4b686e8ee2a.jpg -> Annotation:D:/tensorflow object detection/TFODCourse/Tensorflow/workspace/images/collectedimages/thumbsup/thumbsup.826cb08e-d186-11eb-984e-b4b686e8ee2a.xml\n",
      "Image:D:\\tensorflow object detection\\TFODCourse\\Tensorflow\\workspace\\images\\collectedimages\\thumbsup\\thumbsup.862096be-d186-11eb-9534-b4b686e8ee2a.jpg -> Annotation:D:/tensorflow object detection/TFODCourse/Tensorflow/workspace/images/collectedimages/thumbsup/thumbsup.862096be-d186-11eb-9534-b4b686e8ee2a.xml\n",
      "Image:D:\\tensorflow object detection\\TFODCourse\\Tensorflow\\workspace\\images\\collectedimages\\thumbsup\\thumbsup.875551a3-d186-11eb-8e53-b4b686e8ee2a.jpg -> Annotation:D:/tensorflow object detection/TFODCourse/Tensorflow/workspace/images/collectedimages/thumbsup/thumbsup.875551a3-d186-11eb-8e53-b4b686e8ee2a.xml\n"
     ]
    },
    {
     "name": "stderr",
     "output_type": "stream",
     "text": [
      "D:\\tensorflow object detection\\TFODCourse\\Tensorflow\\labelimg\\labelImg.py:971: DeprecationWarning: an integer is required (got type float).  Implicit conversion to integers using __int__ is deprecated, and may be removed in a future version of Python.\n",
      "  self.zoom_widget.setValue(value)\n",
      "D:\\tensorflow object detection\\TFODCourse\\Tensorflow\\labelimg\\labelImg.py:1025: DeprecationWarning: an integer is required (got type float).  Implicit conversion to integers using __int__ is deprecated, and may be removed in a future version of Python.\n",
      "  h_bar.setValue(new_h_bar_value)\n",
      "D:\\tensorflow object detection\\TFODCourse\\Tensorflow\\labelimg\\labelImg.py:1026: DeprecationWarning: an integer is required (got type float).  Implicit conversion to integers using __int__ is deprecated, and may be removed in a future version of Python.\n",
      "  v_bar.setValue(new_v_bar_value)\n",
      "D:\\tensorflow object detection\\TFODCourse\\Tensorflow\\labelimg\\labelImg.py:965: DeprecationWarning: an integer is required (got type float).  Implicit conversion to integers using __int__ is deprecated, and may be removed in a future version of Python.\n",
      "  bar.setValue(bar.value() + bar.singleStep() * units)\n"
     ]
    }
   ],
   "source": [
    "!cd {LABELIMG_PATH} && python labelImg.py"
   ]
  },
  {
   "cell_type": "markdown",
   "metadata": {},
   "source": [
    "# 6. Move them into a Training and Testing Partition"
   ]
  },
  {
   "cell_type": "markdown",
   "metadata": {},
   "source": [
    "# OPTIONAL - 7. Compress them for Colab Training"
   ]
  },
  {
   "cell_type": "code",
   "execution_count": 3,
   "metadata": {},
   "outputs": [],
   "source": [
    "TRAIN_PATH = os.path.join('Tensorflow', 'workspace', 'images', 'train')\n",
    "TEST_PATH = os.path.join('Tensorflow', 'workspace', 'images', 'test')\n",
    "ARCHIVE_PATH = os.path.join('Tensorflow', 'workspace', 'images', 'archive.tar.gz')"
   ]
  },
  {
   "cell_type": "code",
   "execution_count": 4,
   "metadata": {},
   "outputs": [],
   "source": [
    "!tar -czf {ARCHIVE_PATH} {TRAIN_PATH} {TEST_PATH}"
   ]
  },
  {
   "cell_type": "code",
   "execution_count": 14,
   "metadata": {},
   "outputs": [
    {
     "name": "stderr",
     "output_type": "stream",
     "text": [
      "  ERROR: Command errored out with exit status 1:\n",
      "   command: 'd:\\tensorflow object detection\\tfodcourse\\tfod\\scripts\\python.exe' -u -c 'import io, os, sys, setuptools, tokenize; sys.argv[0] = '\"'\"'C:\\\\Users\\\\deepn\\\\AppData\\\\Local\\\\Temp\\\\pip-install-x8mxxkjz\\\\pycocotools_ee49b75487a448449dc6870787e8bd01\\\\setup.py'\"'\"'; __file__='\"'\"'C:\\\\Users\\\\deepn\\\\AppData\\\\Local\\\\Temp\\\\pip-install-x8mxxkjz\\\\pycocotools_ee49b75487a448449dc6870787e8bd01\\\\setup.py'\"'\"';f = getattr(tokenize, '\"'\"'open'\"'\"', open)(__file__) if os.path.exists(__file__) else io.StringIO('\"'\"'from setuptools import setup; setup()'\"'\"');code = f.read().replace('\"'\"'\\r\\n'\"'\"', '\"'\"'\\n'\"'\"');f.close();exec(compile(code, __file__, '\"'\"'exec'\"'\"'))' bdist_wheel -d 'C:\\Users\\deepn\\AppData\\Local\\Temp\\pip-wheel-_bkazn8m'\n"
     ]
    },
    {
     "name": "stdout",
     "output_type": "stream",
     "text": [
      "Collecting pycocotools\n",
      "  Using cached pycocotools-2.0.2.tar.gz (23 kB)\n",
      "Requirement already satisfied: setuptools>=18.0 in d:\\tensorflow object detection\\tfodcourse\\tfod\\lib\\site-packages (from pycocotools) (56.0.0)\n",
      "Requirement already satisfied: cython>=0.27.3 in d:\\tensorflow object detection\\tfodcourse\\tfod\\lib\\site-packages (from pycocotools) (0.29.23)\n",
      "Requirement already satisfied: matplotlib>=2.1.0 in d:\\tensorflow object detection\\tfodcourse\\tfod\\lib\\site-packages (from pycocotools) (3.4.2)\n",
      "Requirement already satisfied: python-dateutil>=2.7 in d:\\tensorflow object detection\\tfodcourse\\tfod\\lib\\site-packages (from matplotlib>=2.1.0->pycocotools) (2.8.1)\n",
      "Requirement already satisfied: pillow>=6.2.0 in d:\\tensorflow object detection\\tfodcourse\\tfod\\lib\\site-packages (from matplotlib>=2.1.0->pycocotools) (8.2.0)\n",
      "Requirement already satisfied: kiwisolver>=1.0.1 in d:\\tensorflow object detection\\tfodcourse\\tfod\\lib\\site-packages (from matplotlib>=2.1.0->pycocotools) (1.3.1)\n",
      "Requirement already satisfied: cycler>=0.10 in d:\\tensorflow object detection\\tfodcourse\\tfod\\lib\\site-packages (from matplotlib>=2.1.0->pycocotools) (0.10.0)\n",
      "Requirement already satisfied: numpy>=1.16 in d:\\tensorflow object detection\\tfodcourse\\tfod\\lib\\site-packages (from matplotlib>=2.1.0->pycocotools) (1.19.5)\n",
      "Requirement already satisfied: pyparsing>=2.2.1 in d:\\tensorflow object detection\\tfodcourse\\tfod\\lib\\site-packages (from matplotlib>=2.1.0->pycocotools) (2.4.7)\n",
      "Requirement already satisfied: six in d:\\tensorflow object detection\\tfodcourse\\tfod\\lib\\site-packages (from cycler>=0.10->matplotlib>=2.1.0->pycocotools) (1.15.0)\n",
      "Building wheels for collected packages: pycocotools\n",
      "  Building wheel for pycocotools (setup.py): started\n",
      "  Building wheel for pycocotools (setup.py): finished with status 'error'\n",
      "  Running setup.py clean for pycocotools\n",
      "Failed to build pycocotools\n",
      "Installing collected packages: pycocotools\n",
      "    Running setup.py install for pycocotools: started\n",
      "    Running setup.py install for pycocotools: finished with status 'error'\n"
     ]
    },
    {
     "name": "stderr",
     "output_type": "stream",
     "text": [
      "       cwd: C:\\Users\\deepn\\AppData\\Local\\Temp\\pip-install-x8mxxkjz\\pycocotools_ee49b75487a448449dc6870787e8bd01\\\n",
      "  Complete output (16 lines):\n",
      "  running bdist_wheel\n",
      "  running build\n",
      "  running build_py\n",
      "  creating build\n",
      "  creating build\\lib.win-amd64-3.9\n",
      "  creating build\\lib.win-amd64-3.9\\pycocotools\n",
      "  copying pycocotools\\coco.py -> build\\lib.win-amd64-3.9\\pycocotools\n",
      "  copying pycocotools\\cocoeval.py -> build\\lib.win-amd64-3.9\\pycocotools\n",
      "  copying pycocotools\\mask.py -> build\\lib.win-amd64-3.9\\pycocotools\n",
      "  copying pycocotools\\__init__.py -> build\\lib.win-amd64-3.9\\pycocotools\n",
      "  running build_ext\n",
      "  cythoning pycocotools/_mask.pyx to pycocotools\\_mask.c\n",
      "  d:\\tensorflow object detection\\tfodcourse\\tfod\\lib\\site-packages\\Cython\\Compiler\\Main.py:369: FutureWarning: Cython directive 'language_level' not set, using 2 for now (Py2). This will change in a later release! File: C:\\Users\\deepn\\AppData\\Local\\Temp\\pip-install-x8mxxkjz\\pycocotools_ee49b75487a448449dc6870787e8bd01\\pycocotools\\_mask.pyx\n",
      "    tree = Parsing.p_module(s, pxd, full_module_name)\n",
      "  building 'pycocotools._mask' extension\n",
      "  error: Microsoft Visual C++ 14.0 or greater is required. Get it with \"Microsoft C++ Build Tools\": https://visualstudio.microsoft.com/visual-cpp-build-tools/\n",
      "  ----------------------------------------\n",
      "  ERROR: Failed building wheel for pycocotools\n",
      "    ERROR: Command errored out with exit status 1:\n",
      "     command: 'd:\\tensorflow object detection\\tfodcourse\\tfod\\scripts\\python.exe' -u -c 'import io, os, sys, setuptools, tokenize; sys.argv[0] = '\"'\"'C:\\\\Users\\\\deepn\\\\AppData\\\\Local\\\\Temp\\\\pip-install-x8mxxkjz\\\\pycocotools_ee49b75487a448449dc6870787e8bd01\\\\setup.py'\"'\"'; __file__='\"'\"'C:\\\\Users\\\\deepn\\\\AppData\\\\Local\\\\Temp\\\\pip-install-x8mxxkjz\\\\pycocotools_ee49b75487a448449dc6870787e8bd01\\\\setup.py'\"'\"';f = getattr(tokenize, '\"'\"'open'\"'\"', open)(__file__) if os.path.exists(__file__) else io.StringIO('\"'\"'from setuptools import setup; setup()'\"'\"');code = f.read().replace('\"'\"'\\r\\n'\"'\"', '\"'\"'\\n'\"'\"');f.close();exec(compile(code, __file__, '\"'\"'exec'\"'\"'))' install --record 'C:\\Users\\deepn\\AppData\\Local\\Temp\\pip-record-5a33tpq8\\install-record.txt' --single-version-externally-managed --compile --install-headers 'd:\\tensorflow object detection\\tfodcourse\\tfod\\include\\site\\python3.9\\pycocotools'\n",
      "         cwd: C:\\Users\\deepn\\AppData\\Local\\Temp\\pip-install-x8mxxkjz\\pycocotools_ee49b75487a448449dc6870787e8bd01\\\n",
      "    Complete output (14 lines):\n",
      "    running install\n",
      "    running build\n",
      "    running build_py\n",
      "    creating build\n",
      "    creating build\\lib.win-amd64-3.9\n",
      "    creating build\\lib.win-amd64-3.9\\pycocotools\n",
      "    copying pycocotools\\coco.py -> build\\lib.win-amd64-3.9\\pycocotools\n",
      "    copying pycocotools\\cocoeval.py -> build\\lib.win-amd64-3.9\\pycocotools\n",
      "    copying pycocotools\\mask.py -> build\\lib.win-amd64-3.9\\pycocotools\n",
      "    copying pycocotools\\__init__.py -> build\\lib.win-amd64-3.9\\pycocotools\n",
      "    running build_ext\n",
      "    skipping 'pycocotools\\_mask.c' Cython extension (up-to-date)\n",
      "    building 'pycocotools._mask' extension\n",
      "    error: Microsoft Visual C++ 14.0 or greater is required. Get it with \"Microsoft C++ Build Tools\": https://visualstudio.microsoft.com/visual-cpp-build-tools/\n",
      "    ----------------------------------------\n",
      "ERROR: Command errored out with exit status 1: 'd:\\tensorflow object detection\\tfodcourse\\tfod\\scripts\\python.exe' -u -c 'import io, os, sys, setuptools, tokenize; sys.argv[0] = '\"'\"'C:\\\\Users\\\\deepn\\\\AppData\\\\Local\\\\Temp\\\\pip-install-x8mxxkjz\\\\pycocotools_ee49b75487a448449dc6870787e8bd01\\\\setup.py'\"'\"'; __file__='\"'\"'C:\\\\Users\\\\deepn\\\\AppData\\\\Local\\\\Temp\\\\pip-install-x8mxxkjz\\\\pycocotools_ee49b75487a448449dc6870787e8bd01\\\\setup.py'\"'\"';f = getattr(tokenize, '\"'\"'open'\"'\"', open)(__file__) if os.path.exists(__file__) else io.StringIO('\"'\"'from setuptools import setup; setup()'\"'\"');code = f.read().replace('\"'\"'\\r\\n'\"'\"', '\"'\"'\\n'\"'\"');f.close();exec(compile(code, __file__, '\"'\"'exec'\"'\"'))' install --record 'C:\\Users\\deepn\\AppData\\Local\\Temp\\pip-record-5a33tpq8\\install-record.txt' --single-version-externally-managed --compile --install-headers 'd:\\tensorflow object detection\\tfodcourse\\tfod\\include\\site\\python3.9\\pycocotools' Check the logs for full command output.\n"
     ]
    }
   ],
   "source": [
    "!pip install pycocotools"
   ]
  },
  {
   "cell_type": "code",
   "execution_count": null,
   "metadata": {},
   "outputs": [],
   "source": []
  }
 ],
 "metadata": {
  "kernelspec": {
   "display_name": "tfod",
   "language": "python",
   "name": "tfod"
  },
  "language_info": {
   "codemirror_mode": {
    "name": "ipython",
    "version": 3
   },
   "file_extension": ".py",
   "mimetype": "text/x-python",
   "name": "python",
   "nbconvert_exporter": "python",
   "pygments_lexer": "ipython3",
   "version": "3.9.5"
  }
 },
 "nbformat": 4,
 "nbformat_minor": 2
}
